{
  "nbformat": 4,
  "nbformat_minor": 0,
  "metadata": {
    "colab": {
      "provenance": []
    },
    "kernelspec": {
      "name": "python3",
      "display_name": "Python 3"
    },
    "language_info": {
      "name": "python"
    }
  },
  "cells": [
    {
      "cell_type": "markdown",
      "source": [
        "# Chronic Kidney Disease Classification\n",
        "\n",
        "Training the Neural Network and Additional Preprocessing Steps\n",
        "\n",
        "\n",
        "Author: cayscays\n",
        "\n",
        "Date: 2023\n",
        "\n",
        "Website: https://github.com/cayscays/\n",
        "\n",
        "---\n",
        "\n",
        "In this notebook, I train the [neural network](https://github.com/cayscays/neural-network-from-scratch/tree/main) on the Chronic Kidney Disease dataset. Prior to loading the data into this notebook, I conducted preprocessing steps including anomaly detection, handling missing values, replacement of missing values, and data discretization. Within this notebook, I transform binary and continuous features to prepare the dataset for training.\n",
        "\n",
        "---\n",
        "\n",
        "**Important Notice:**\n",
        "\n",
        "For explanations regarding the content of this notebook, including  dataset preprocessing and transformation for neural network input, model architecture and training process, as well as results, please refer to the '_Project 1: Chronic Kidney Disease Classification_' section in the main README file. All explanations regarding this code can be found there.\n",
        "\n",
        "\n",
        "[Link to the README](https://github.com/cayscays/neural-network-from-scratch/blob/main/README.md#project-1-chronic-kidney-disease-classification)"
      ],
      "metadata": {
        "id": "wtKSQXl70pDV",
        "pycharm": {
          "name": "#%% md\n"
        }
      }
    },
    {
      "cell_type": "markdown",
      "source": [
        "# Data Preprocessing for Neural Network Input"
      ],
      "metadata": {
        "id": "QB_IND2KWGrJ",
        "pycharm": {
          "name": "#%% md\n"
        }
      }
    },
    {
      "cell_type": "markdown",
      "source": [
        "The data labels:\n",
        "\n",
        "0: not ckd\n",
        "\n",
        "1: ckd"
      ],
      "metadata": {
        "id": "MBff6oifJVrw",
        "pycharm": {
          "name": "#%% md\n"
        }
      }
    },
    {
      "cell_type": "code",
      "execution_count": null,
      "metadata": {
        "colab": {
          "base_uri": "https://localhost:8080/"
        },
        "id": "IlEbnj73IFpe",
        "outputId": "ac7b2835-16c3-4029-f5c6-cb62a45fad1b",
        "pycharm": {
          "name": "#%%\n"
        }
      },
      "outputs": [
        {
          "output_type": "stream",
          "name": "stdout",
          "text": [
            "There are 389 entries in the dataset\n"
          ]
        }
      ],
      "source": [
        "import pandas as pd\n",
        "data_file = pd.read_csv('/content/preprocessed_data.csv')\n",
        "data_file.columns\n",
        "print(\"There are \" + str(len(data_file)) + \" entries in the dataset\")"
      ]
    },
    {
      "cell_type": "code",
      "source": [
        "raw_data = data_file.iloc[:, :].values\n",
        "print(raw_data.shape)"
      ],
      "metadata": {
        "colab": {
          "base_uri": "https://localhost:8080/"
        },
        "id": "_vtHpWoSF12V",
        "outputId": "d536f55d-beba-429a-ea10-1db80764b384",
        "pycharm": {
          "name": "#%%\n"
        }
      },
      "execution_count": null,
      "outputs": [
        {
          "output_type": "stream",
          "name": "stdout",
          "text": [
            "(389, 23)\n"
          ]
        }
      ]
    },
    {
      "cell_type": "code",
      "source": [
        "import re\n",
        "\n",
        "def entry_data_to_int(raw_entry):\n",
        "  entry = []\n",
        "  features = []\n",
        "  classification = []\n",
        "  for i in range(0,len(raw_entry) - 1):\n",
        "    match raw_entry[i]:\n",
        "      case 'normal':\n",
        "        features.append(0)\n",
        "      case 'abnormal':\n",
        "        features.append(1)\n",
        "      case 'no':\n",
        "        features.append(0)\n",
        "      case 'yes':\n",
        "        features.append(1)\n",
        "      case 'notpresent':\n",
        "        features.append(0)\n",
        "      case 'present':\n",
        "        features.append(1)\n",
        "      case 'good':\n",
        "        features.append(0)\n",
        "      case 'bad':\n",
        "        features.append(1)\n",
        "      case 'poor':\n",
        "        features.append(1)\n",
        "      case _:\n",
        "        # save the first number:\n",
        "        val = float(re.search('[0-9,.]+', raw_entry[i]).group())\n",
        "        val = val ** (-1)\n",
        "        features.append(val)\n",
        "  match raw_entry[-1]:\n",
        "    case 'notckd':\n",
        "      classification.append(0)\n",
        "    case 'ckd':\n",
        "      classification.append(1)\n",
        "  entry.append(features)\n",
        "  entry.append(classification)\n",
        "  return entry"
      ],
      "metadata": {
        "id": "H0m8_rnCQEf2",
        "pycharm": {
          "name": "#%%\n"
        }
      },
      "execution_count": 1,
      "outputs": []
    },
    {
      "cell_type": "code",
      "source": [
        "data = []\n",
        "\n",
        "for i in range (0, len(raw_data)):\n",
        "  data.append(entry_data_to_int(raw_data[i]))\n",
        "len(data[0][0])"
      ],
      "metadata": {
        "id": "iHQwDnZJF5aU",
        "pycharm": {
          "name": "#%%\n"
        },
        "colab": {
          "base_uri": "https://localhost:8080/"
        },
        "outputId": "5782bcd4-8d96-4fc8-b04c-3c3bfb17e564"
      },
      "execution_count": null,
      "outputs": [
        {
          "output_type": "execute_result",
          "data": {
            "text/plain": [
              "22"
            ]
          },
          "metadata": {},
          "execution_count": 111
        }
      ]
    },
    {
      "cell_type": "markdown",
      "source": [
        "# The neural network"
      ],
      "metadata": {
        "id": "4kmyRv8705Vk",
        "pycharm": {
          "name": "#%% md\n"
        }
      }
    },
    {
      "cell_type": "code",
      "source": [
        "import random"
      ],
      "metadata": {
        "id": "_CFBaRc7IQFY",
        "pycharm": {
          "name": "#%%\n"
        }
      },
      "execution_count": null,
      "outputs": []
    },
    {
      "cell_type": "markdown",
      "source": [
        "The neural network:"
      ],
      "metadata": {
        "id": "3RFqG3T1JEz7",
        "pycharm": {
          "name": "#%% md\n"
        }
      }
    },
    {
      "cell_type": "code",
      "source": [
        "\"\"\"\n",
        "Author:       cayscays\n",
        "Date:         December 2021\n",
        "Version:      1\n",
        "Description:  A neural network implemented from scratch\n",
        "\"\"\"\n",
        "\n",
        "import random\n",
        "import numpy as np\n",
        "\n",
        "\n",
        "class NeuralNetwork:\n",
        "    \"\"\"\n",
        "    A fully connected neural network\n",
        "    \"\"\"\n",
        "\n",
        "    def __init__(self, input_size, hidden_layers_sizes, output_size,\n",
        "                 learning_rate, amount_of_epochs, batch_size, data, seed):\n",
        "        \"\"\"\n",
        "            Initializes the neural network.\n",
        "\n",
        "            Args:\n",
        "                input_size (list): The number of neurons in the input layer.\n",
        "                hidden_layers_sizes (list): The number of neurons in the hidden layers.\n",
        "                output_size (list): The number of neurons in the output layer.\n",
        "                learning_rate (float): The learning rate for the network.\n",
        "                amount_of_epochs (int): The number of epochs to train the network for.\n",
        "                batch_size (int): The size of the batch (currently supports batch size of 1).\n",
        "                data (list): The data for training and testing.\n",
        "                seed (int): The seed for random initialization.\n",
        "        \"\"\"\n",
        "        random.seed(seed)\n",
        "        self.all_layers_sizes = input_size + hidden_layers_sizes + output_size\n",
        "        self.learning_rate = learning_rate\n",
        "        self.amount_of_epochs = amount_of_epochs\n",
        "        self.batch_size = batch_size  # For future batch features. currently supports batch size of 1.\n",
        "\n",
        "        self.errors = {'training': [], 'test': []}\n",
        "        self.accuracy = {'training': [], 'test': []}\n",
        "        self.epochs = []\n",
        "\n",
        "        # Initiates random weights\n",
        "        self.weights = []\n",
        "        for i in range(len(self.all_layers_sizes) - 1):\n",
        "            self.weights.append(np.random.rand(self.all_layers_sizes[i + 1], self.all_layers_sizes[i]))\n",
        "\n",
        "        self.values = []\n",
        "        for layer in self.all_layers_sizes:\n",
        "            self.values.append(np.zeros(layer))\n",
        "\n",
        "        self.delta = []\n",
        "        for i in range(1, len(self.values)):\n",
        "            self.delta.append(np.zeros(self.values[i].shape))\n",
        "\n",
        "        # divide the data to test and training:\n",
        "        random.shuffle(data)\n",
        "        n = int(len(data) / 2)\n",
        "        self.training_data = data[n:]\n",
        "        self.test_data = data[:n]\n",
        "\n",
        "    def sigmoid(self, vals):\n",
        "        \"\"\"\n",
        "        Calculates the sigmoid function for the given values.\n",
        "\n",
        "        Args:\n",
        "            vals (numpy.array): Input values.\n",
        "\n",
        "        Returns:\n",
        "            numpy.array: Result of applying the sigmoid function to the input values.\n",
        "        \"\"\"\n",
        "        return 1 / (np.exp(-vals) + 1.0)\n",
        "\n",
        "    def get_label_id(self, output):\n",
        "        \"\"\"\n",
        "        Determines the label id based on the output value.\n",
        "\n",
        "        Args:\n",
        "            output (numpy.array): Output value.\n",
        "\n",
        "        Returns:\n",
        "            int: Label ID.\n",
        "        \"\"\"\n",
        "        if output[0] > 0.5:\n",
        "            return 1\n",
        "        else:\n",
        "            return 0\n",
        "\n",
        "    def forward_pass_single_input(self, single_input):\n",
        "        \"\"\"\n",
        "        Performs a forward pass for a single input through the network.\n",
        "\n",
        "        This method updates all neuron's values.\n",
        "        Immediately after the input layer there is no activation function.\n",
        "\n",
        "\n",
        "        Args:\n",
        "            single_input (list): Input data.\n",
        "\n",
        "        Returns:\n",
        "            int: Predicted label id.\n",
        "        \"\"\"\n",
        "        self.values[0] = np.array(single_input)\n",
        "        # forward pass\n",
        "        for i in range(1, len(self.all_layers_sizes)):\n",
        "            self.values[i] = self.sigmoid(self.weights[i - 1] @ self.values[i - 1])\n",
        "        return self.get_label_id(self.values[-1])\n",
        "\n",
        "    def backpropagation(self, correct_label):\n",
        "        \"\"\"\n",
        "        Updates the weights of the network using the backpropagation algorithm.\n",
        "\n",
        "        Args:\n",
        "            correct_label (numpy.array): The correct label for the current input.\n",
        "        \"\"\"\n",
        "        output = self.values[len(self.values) - 1]\n",
        "        self.delta[len(self.delta) - 1] = (correct_label - output) * output * (1 - output)\n",
        "\n",
        "        for l in range(len(self.delta) - 2, -1, -1):\n",
        "            for i in range(len(self.delta[l])):\n",
        "                temp = 0\n",
        "                for j in range(len(self.delta[l + 1])):\n",
        "                    temp += (self.weights[l + 1][j][i] * self.delta[l + 1][j])\n",
        "                self.delta[l][i] = self.values[l + 1][i] * (1 - self.values[l + 1][i]) * temp\n",
        "\n",
        "        # update the weights\n",
        "        for j in range(len(self.weights)):\n",
        "            for i in range(len(self.weights[j])):\n",
        "                # one line at a time:\n",
        "                self.weights[j][i] += self.learning_rate * self.values[j] * self.delta[j][i]\n",
        "\n",
        "    def calculate_single_run_error(self, target, output):\n",
        "        \"\"\"\n",
        "        Calculates the error for a single run.\n",
        "\n",
        "        Args:\n",
        "            target (numpy.array): Target values.\n",
        "            output (numpy.array): Output values.\n",
        "\n",
        "        Returns:\n",
        "            float: Error value.\n",
        "        \"\"\"\n",
        "        error = 0\n",
        "        for i in range(len(output)):\n",
        "            error += (target[i] - output[i]) ** 2\n",
        "        return error\n",
        "\n",
        "    def run_epoch(self):\n",
        "        \"\"\"\n",
        "        Runs an epoch of training on all the data.\n",
        "        Updates error, accuracy, and weights.\n",
        "        \"\"\"\n",
        "        training_error = 0\n",
        "        test_error = 0\n",
        "        training_accuracy = 0\n",
        "        test_accuracy = 0\n",
        "        for i in range(len(self.training_data)):\n",
        "            # 1 for correct, 0 for incorrect\n",
        "            training_accuracy += 1 + self.forward_pass_single_input(self.training_data[i][0]) - \\\n",
        "                                 self.training_data[i][1][0]\n",
        "\n",
        "            self.backpropagation(self.training_data[i][1])\n",
        "            training_error += self.calculate_single_run_error(self.training_data[i][1], self.values[-1])\n",
        "\n",
        "            # 1 for correct, 0 for incorrect\n",
        "            test_accuracy += 1 + self.forward_pass_single_input(self.test_data[i][0]) - self.test_data[i][1][0]\n",
        "\n",
        "            test_error += self.calculate_single_run_error(self.test_data[i][1], self.values[-1])\n",
        "\n",
        "        test_error /= len(self.test_data)\n",
        "        training_error /= len(self.training_data)\n",
        "        self.errors['training'].append(training_error)\n",
        "        self.errors['test'].append(test_error)\n",
        "\n",
        "        test_accuracy /= len(self.test_data)\n",
        "        training_accuracy /= len(self.training_data)\n",
        "        test_accuracy *= 100\n",
        "        training_accuracy *= 100\n",
        "        self.accuracy['training'].append(training_accuracy)\n",
        "        self.accuracy['test'].append(test_accuracy)\n",
        "\n",
        "    def train(self):\n",
        "        \"\"\"\n",
        "        Trains the neural network.\n",
        "        \"\"\"\n",
        "        for i in range(self.amount_of_epochs):\n",
        "            self.run_epoch()"
      ],
      "metadata": {
        "id": "NFuMC-d1Iuwc",
        "pycharm": {
          "name": "#%%\n"
        }
      },
      "execution_count": null,
      "outputs": []
    },
    {
      "cell_type": "markdown",
      "source": [
        "# Training the Neural Network"
      ],
      "metadata": {
        "id": "bSNIMUrWLvDe",
        "pycharm": {
          "name": "#%% md\n"
        }
      }
    },
    {
      "cell_type": "code",
      "source": [
        "random.seed(90)\n",
        "\n",
        "# Network's architecture:\n",
        "INPUT_SIZE = [22]\n",
        "HIDDEN_LAYERS_SIZES = [5]\n",
        "OUTPUT_SIZE = [1]\n",
        "\n",
        "# Optimization parameters:\n",
        "LEARNING_RATE = 0.7\n",
        "amount_of_epochs = 100\n",
        "batch_size = 1\n",
        "\n",
        "nn1 = NeuralNetwork(INPUT_SIZE, HIDDEN_LAYERS_SIZES, OUTPUT_SIZE, LEARNING_RATE, amount_of_epochs, batch_size, data)\n",
        "nn1.train()\n",
        "\n",
        "epochs = []\n",
        "for i in range(amount_of_epochs):\n",
        "    epochs.append(i)\n",
        "error_graph = pd.DataFrame(nn1.errors, epochs)\n",
        "error_graph.plot(kind='line', ylabel='Error', xlabel='Number of epoches')\n",
        "accuracy_graph = pd.DataFrame(nn1.accuracy, epochs)\n",
        "accuracy_graph.plot(kind='line', ylabel='Accuracy', xlabel='Number of epoches')\n",
        "\n",
        "print(\"The test accuracy is \" + str(nn1.accuracy['test'][-1]) + \"%\")\n",
        "print(\"The test error rate is \" + str(nn1.errors['test'][-1]) + \"%\")"
      ],
      "metadata": {
        "colab": {
          "base_uri": "https://localhost:8080/",
          "height": 919
        },
        "id": "QHjxdxnvJLyZ",
        "outputId": "b456294a-eaf7-4a8c-b702-e71840be3617",
        "pycharm": {
          "name": "#%%\n"
        }
      },
      "execution_count": null,
      "outputs": [
        {
          "output_type": "stream",
          "name": "stdout",
          "text": [
            "The test accuracy is 95.36082474226805%\n",
            "The test error rate is 0.04328912878045892%\n"
          ]
        },
        {
          "output_type": "display_data",
          "data": {
            "text/plain": [
              "<Figure size 640x480 with 1 Axes>"
            ],
            "image/png": "[encoded data removed]"
          },
          "metadata": {}
        },
        {
          "output_type": "display_data",
          "data": {
            "text/plain": [
              "<Figure size 640x480 with 1 Axes>"
            ],
            "image/png": "[encoded data removed]"
          },
          "metadata": {}
        }
      ]
    },
    {
      "cell_type": "markdown",
      "source": [
        "## Neural Network Errors Analysis"
      ],
      "metadata": {
        "id": "clNS0BP0Qjig",
        "pycharm": {
          "name": "#%% md\n"
        }
      }
    },
    {
      "cell_type": "code",
      "source": [
        "# NeuralNetwork --> list\n",
        "def find_incorrect_classifications(nn):\n",
        "    incorrect_classifications = []\n",
        "    for entry in nn.test_data:\n",
        "        if nn.forward_pass_single_input(entry[0]) != entry[1][0]:\n",
        "            incorrect_classifications.append(entry)\n",
        "    for entry in nn.training_data:\n",
        "        if nn.forward_pass_single_input(entry[0]) != entry[1][0]:\n",
        "            incorrect_classifications.append(entry)\n",
        "    return incorrect_classifications\n",
        "\n",
        "incorrect_classifications = find_incorrect_classifications(nn1)\n",
        "(\"There are \" + str(len(incorrect_classifications)) + \" incorrect classified entries in the dataset\")"
      ],
      "metadata": {
        "colab": {
          "base_uri": "https://localhost:8080/",
          "height": 36
        },
        "id": "uPdUj-h54msE",
        "outputId": "2bc72b87-2af3-4a40-8fa3-4549ea9abf41",
        "pycharm": {
          "name": "#%%\n"
        }
      },
      "execution_count": null,
      "outputs": [
        {
          "output_type": "execute_result",
          "data": {
            "text/plain": [
              "'There are 19 incorrect classified entries in the dataset'"
            ],
            "application/vnd.google.colaboratory.intrinsic+json": {
              "type": "string"
            }
          },
          "metadata": {},
          "execution_count": 161
        }
      ]
    },
    {
      "cell_type": "code",
      "source": [
        "FN = 0\n",
        "P = 0\n",
        "\n",
        "for entry in incorrect_classifications:\n",
        "  if entry[-1] == [1]:\n",
        "    FN = FN + 1\n",
        "\n",
        "for entry in nn1.test_data:\n",
        "  if entry[-1] == [1]:\n",
        "    P = P + 1\n",
        "for entry in nn1.training_data:\n",
        "  if entry[-1] == [1]:\n",
        "    P = P + 1\n",
        "\n",
        "TP = P - FN\n",
        "\n",
        "print(TP/(TP+FN))"
      ],
      "metadata": {
        "colab": {
          "base_uri": "https://localhost:8080/"
        },
        "id": "LrwzFz26Q4wj",
        "outputId": "d8869a75-7262-4e08-a9f7-c128804402a6",
        "pycharm": {
          "name": "#%%\n"
        }
      },
      "execution_count": null,
      "outputs": [
        {
          "output_type": "stream",
          "name": "stdout",
          "text": [
            "0.9205020920502092\n"
          ]
        }
      ]
    },
    {
      "cell_type": "markdown",
      "source": [
        "\n",
        "Thank you for reviewing preprocessing_&_train_ckd_classification_model!\n",
        "\n",
        "Created by [cayscays](https://github.com/cayscays/)."
      ],
      "metadata": {
        "id": "3-98k4HmWq56",
        "pycharm": {
          "name": "#%% md\n"
        }
      }
    }
  ]
}